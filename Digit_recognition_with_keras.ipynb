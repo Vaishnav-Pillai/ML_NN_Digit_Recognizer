{
  "nbformat": 4,
  "nbformat_minor": 0,
  "metadata": {
    "accelerator": "GPU",
    "colab": {
      "provenance": [],
      "include_colab_link": true
    },
    "kernelspec": {
      "display_name": "Python 3",
      "language": "python",
      "name": "python3"
    },
    "language_info": {
      "codemirror_mode": {
        "name": "ipython",
        "version": 3
      },
      "file_extension": ".py",
      "mimetype": "text/x-python",
      "name": "python",
      "nbconvert_exporter": "python",
      "pygments_lexer": "ipython3",
      "version": "3.7.3"
    }
  },
  "cells": [
    {
      "cell_type": "markdown",
      "metadata": {
        "id": "view-in-github",
        "colab_type": "text"
      },
      "source": [
        "<a href=\"https://colab.research.google.com/github/Vaishnav-Pillai/ML_NN_Digit_Recognizer/blob/main/Digit_recognition_with_keras.ipynb\" target=\"_parent\"><img src=\"https://colab.research.google.com/assets/colab-badge.svg\" alt=\"Open In Colab\"/></a>"
      ]
    },
    {
      "cell_type": "code",
      "metadata": {
        "id": "67X8rxw7gJH0"
      },
      "source": [
        "from tensorflow import keras\n",
        "from keras.datasets import mnist\n",
        "from keras.layers import Dense,Dropout\n",
        "from keras.models import Sequential\n"
      ],
      "execution_count": 22,
      "outputs": []
    },
    {
      "cell_type": "code",
      "metadata": {
        "id": "KJwXf0jmI3Wx"
      },
      "source": [
        "(train_x, train_y) , (test_x, test_y) = mnist.load_data()\n"
      ],
      "execution_count": 23,
      "outputs": []
    },
    {
      "cell_type": "code",
      "metadata": {
        "id": "EcDX1fb4I3XB",
        "colab": {
          "base_uri": "https://localhost:8080/"
        },
        "outputId": "da854357-b992-465c-b677-bf07a346c8ea"
      },
      "source": [
        "train_x = train_x.astype('float32') / 255 # Similar to feature scaling\n",
        "test_x = test_x.astype('float32') / 255\n",
        "\n",
        "\n",
        "print(train_x.shape)\n",
        "print(train_y.shape)\n",
        "print(test_x.shape)\n",
        "print(test_y.shape)\n"
      ],
      "execution_count": 24,
      "outputs": [
        {
          "output_type": "stream",
          "name": "stdout",
          "text": [
            "(60000, 28, 28)\n",
            "(60000,)\n",
            "(10000, 28, 28)\n",
            "(10000,)\n"
          ]
        }
      ]
    },
    {
      "cell_type": "code",
      "metadata": {
        "id": "zG2gp6WCI3XM"
      },
      "source": [
        "# Preparing the dataset\n",
        "train_x = train_x.reshape(60000,784)\n",
        "test_x = test_x.reshape(10000,784)\n",
        "\n",
        "train_y = keras.utils.to_categorical(train_y,10)\n",
        "test_y = keras.utils.to_categorical(test_y,10)\n",
        "\n"
      ],
      "execution_count": 25,
      "outputs": []
    },
    {
      "cell_type": "code",
      "metadata": {
        "id": "CHWN98LVI3Xc"
      },
      "source": [
        "model = Sequential()\n",
        "model.add(Dense(units=256,activation=\"relu\",input_shape=(784,)))\n",
        "model.add(Dropout(0.4))\n",
        "\n",
        "model.add(Dense(units=128,activation=\"relu\"))\n",
        "model.add(Dropout(0.3))\n",
        "\n",
        "model.add(Dense(units=128,activation=\"relu\"))\n",
        "model.add(Dropout(0.4))\n",
        "\n",
        "model.add(Dense(units=64,activation=\"relu\"))\n",
        "model.add(Dropout(0.4))\n",
        "\n",
        "model.add(Dense(units=10,activation=\"softmax\"))"
      ],
      "execution_count": 26,
      "outputs": []
    },
    {
      "cell_type": "code",
      "metadata": {
        "id": "n5UqtplCI3Xn"
      },
      "source": [
        "model.compile(optimizer='Adam',loss=\"categorical_crossentropy\",metrics=[\"accuracy\"])\n",
        "\n"
      ],
      "execution_count": 27,
      "outputs": []
    },
    {
      "cell_type": "code",
      "metadata": {
        "id": "8NgXSbnwI3X0",
        "colab": {
          "base_uri": "https://localhost:8080/"
        },
        "outputId": "bdcf6401-f580-4025-a087-c410f2ac1f6c"
      },
      "source": [
        "H=model.fit(train_x,train_y,batch_size=2048,epochs=100)"
      ],
      "execution_count": 28,
      "outputs": [
        {
          "output_type": "stream",
          "name": "stdout",
          "text": [
            "Epoch 1/100\n",
            "30/30 [==============================] - 2s 7ms/step - loss: 1.7459 - accuracy: 0.3871\n",
            "Epoch 2/100\n",
            "30/30 [==============================] - 0s 8ms/step - loss: 0.7709 - accuracy: 0.7512\n",
            "Epoch 3/100\n",
            "30/30 [==============================] - 0s 8ms/step - loss: 0.4665 - accuracy: 0.8669\n",
            "Epoch 4/100\n",
            "30/30 [==============================] - 0s 10ms/step - loss: 0.3535 - accuracy: 0.9050\n",
            "Epoch 5/100\n",
            "30/30 [==============================] - 0s 9ms/step - loss: 0.2930 - accuracy: 0.9223\n",
            "Epoch 6/100\n",
            "30/30 [==============================] - 0s 10ms/step - loss: 0.2540 - accuracy: 0.9340\n",
            "Epoch 7/100\n",
            "30/30 [==============================] - 0s 9ms/step - loss: 0.2228 - accuracy: 0.9431\n",
            "Epoch 8/100\n",
            "30/30 [==============================] - 0s 9ms/step - loss: 0.2084 - accuracy: 0.9467\n",
            "Epoch 9/100\n",
            "30/30 [==============================] - 0s 9ms/step - loss: 0.1862 - accuracy: 0.9524\n",
            "Epoch 10/100\n",
            "30/30 [==============================] - 0s 9ms/step - loss: 0.1678 - accuracy: 0.9563\n",
            "Epoch 11/100\n",
            "30/30 [==============================] - 0s 9ms/step - loss: 0.1581 - accuracy: 0.9602\n",
            "Epoch 12/100\n",
            "30/30 [==============================] - 0s 9ms/step - loss: 0.1450 - accuracy: 0.9630\n",
            "Epoch 13/100\n",
            "30/30 [==============================] - 0s 9ms/step - loss: 0.1421 - accuracy: 0.9639\n",
            "Epoch 14/100\n",
            "30/30 [==============================] - 0s 10ms/step - loss: 0.1317 - accuracy: 0.9664\n",
            "Epoch 15/100\n",
            "30/30 [==============================] - 0s 9ms/step - loss: 0.1249 - accuracy: 0.9680\n",
            "Epoch 16/100\n",
            "30/30 [==============================] - 0s 7ms/step - loss: 0.1201 - accuracy: 0.9691\n",
            "Epoch 17/100\n",
            "30/30 [==============================] - 0s 7ms/step - loss: 0.1132 - accuracy: 0.9710\n",
            "Epoch 18/100\n",
            "30/30 [==============================] - 0s 7ms/step - loss: 0.1082 - accuracy: 0.9726\n",
            "Epoch 19/100\n",
            "30/30 [==============================] - 0s 7ms/step - loss: 0.1051 - accuracy: 0.9727\n",
            "Epoch 20/100\n",
            "30/30 [==============================] - 0s 7ms/step - loss: 0.1000 - accuracy: 0.9740\n",
            "Epoch 21/100\n",
            "30/30 [==============================] - 0s 6ms/step - loss: 0.0973 - accuracy: 0.9740\n",
            "Epoch 22/100\n",
            "30/30 [==============================] - 0s 7ms/step - loss: 0.0942 - accuracy: 0.9756\n",
            "Epoch 23/100\n",
            "30/30 [==============================] - 0s 6ms/step - loss: 0.0902 - accuracy: 0.9771\n",
            "Epoch 24/100\n",
            "30/30 [==============================] - 0s 7ms/step - loss: 0.0836 - accuracy: 0.9778\n",
            "Epoch 25/100\n",
            "30/30 [==============================] - 0s 6ms/step - loss: 0.0838 - accuracy: 0.9786\n",
            "Epoch 26/100\n",
            "30/30 [==============================] - 0s 7ms/step - loss: 0.0804 - accuracy: 0.9792\n",
            "Epoch 27/100\n",
            "30/30 [==============================] - 0s 7ms/step - loss: 0.0788 - accuracy: 0.9785\n",
            "Epoch 28/100\n",
            "30/30 [==============================] - 0s 7ms/step - loss: 0.0747 - accuracy: 0.9798\n",
            "Epoch 29/100\n",
            "30/30 [==============================] - 0s 7ms/step - loss: 0.0723 - accuracy: 0.9806\n",
            "Epoch 30/100\n",
            "30/30 [==============================] - 0s 7ms/step - loss: 0.0700 - accuracy: 0.9819\n",
            "Epoch 31/100\n",
            "30/30 [==============================] - 0s 7ms/step - loss: 0.0692 - accuracy: 0.9822\n",
            "Epoch 32/100\n",
            "30/30 [==============================] - 0s 7ms/step - loss: 0.0699 - accuracy: 0.9817\n",
            "Epoch 33/100\n",
            "30/30 [==============================] - 0s 7ms/step - loss: 0.0650 - accuracy: 0.9828\n",
            "Epoch 34/100\n",
            "30/30 [==============================] - 0s 7ms/step - loss: 0.0649 - accuracy: 0.9823\n",
            "Epoch 35/100\n",
            "30/30 [==============================] - 0s 7ms/step - loss: 0.0652 - accuracy: 0.9827\n",
            "Epoch 36/100\n",
            "30/30 [==============================] - 0s 7ms/step - loss: 0.0610 - accuracy: 0.9836\n",
            "Epoch 37/100\n",
            "30/30 [==============================] - 0s 7ms/step - loss: 0.0585 - accuracy: 0.9848\n",
            "Epoch 38/100\n",
            "30/30 [==============================] - 0s 7ms/step - loss: 0.0590 - accuracy: 0.9842\n",
            "Epoch 39/100\n",
            "30/30 [==============================] - 0s 7ms/step - loss: 0.0584 - accuracy: 0.9845\n",
            "Epoch 40/100\n",
            "30/30 [==============================] - 0s 7ms/step - loss: 0.0579 - accuracy: 0.9848\n",
            "Epoch 41/100\n",
            "30/30 [==============================] - 0s 7ms/step - loss: 0.0562 - accuracy: 0.9851\n",
            "Epoch 42/100\n",
            "30/30 [==============================] - 0s 7ms/step - loss: 0.0551 - accuracy: 0.9857\n",
            "Epoch 43/100\n",
            "30/30 [==============================] - 0s 7ms/step - loss: 0.0513 - accuracy: 0.9866\n",
            "Epoch 44/100\n",
            "30/30 [==============================] - 0s 7ms/step - loss: 0.0502 - accuracy: 0.9868\n",
            "Epoch 45/100\n",
            "30/30 [==============================] - 0s 7ms/step - loss: 0.0512 - accuracy: 0.9863\n",
            "Epoch 46/100\n",
            "30/30 [==============================] - 0s 7ms/step - loss: 0.0462 - accuracy: 0.9877\n",
            "Epoch 47/100\n",
            "30/30 [==============================] - 0s 7ms/step - loss: 0.0498 - accuracy: 0.9866\n",
            "Epoch 48/100\n",
            "30/30 [==============================] - 0s 8ms/step - loss: 0.0501 - accuracy: 0.9868\n",
            "Epoch 49/100\n",
            "30/30 [==============================] - 0s 7ms/step - loss: 0.0515 - accuracy: 0.9864\n",
            "Epoch 50/100\n",
            "30/30 [==============================] - 0s 7ms/step - loss: 0.0477 - accuracy: 0.9869\n",
            "Epoch 51/100\n",
            "30/30 [==============================] - 0s 7ms/step - loss: 0.0468 - accuracy: 0.9876\n",
            "Epoch 52/100\n",
            "30/30 [==============================] - 0s 7ms/step - loss: 0.0445 - accuracy: 0.9881\n",
            "Epoch 53/100\n",
            "30/30 [==============================] - 0s 7ms/step - loss: 0.0443 - accuracy: 0.9880\n",
            "Epoch 54/100\n",
            "30/30 [==============================] - 0s 7ms/step - loss: 0.0427 - accuracy: 0.9880\n",
            "Epoch 55/100\n",
            "30/30 [==============================] - 0s 7ms/step - loss: 0.0436 - accuracy: 0.9884\n",
            "Epoch 56/100\n",
            "30/30 [==============================] - 0s 8ms/step - loss: 0.0416 - accuracy: 0.9886\n",
            "Epoch 57/100\n",
            "30/30 [==============================] - 0s 7ms/step - loss: 0.0408 - accuracy: 0.9891\n",
            "Epoch 58/100\n",
            "30/30 [==============================] - 0s 8ms/step - loss: 0.0393 - accuracy: 0.9896\n",
            "Epoch 59/100\n",
            "30/30 [==============================] - 0s 7ms/step - loss: 0.0411 - accuracy: 0.9895\n",
            "Epoch 60/100\n",
            "30/30 [==============================] - 0s 7ms/step - loss: 0.0427 - accuracy: 0.9885\n",
            "Epoch 61/100\n",
            "30/30 [==============================] - 0s 7ms/step - loss: 0.0403 - accuracy: 0.9896\n",
            "Epoch 62/100\n",
            "30/30 [==============================] - 0s 8ms/step - loss: 0.0382 - accuracy: 0.9899\n",
            "Epoch 63/100\n",
            "30/30 [==============================] - 0s 10ms/step - loss: 0.0353 - accuracy: 0.9904\n",
            "Epoch 64/100\n",
            "30/30 [==============================] - 0s 9ms/step - loss: 0.0367 - accuracy: 0.9908\n",
            "Epoch 65/100\n",
            "30/30 [==============================] - 0s 10ms/step - loss: 0.0358 - accuracy: 0.9902\n",
            "Epoch 66/100\n",
            "30/30 [==============================] - 0s 10ms/step - loss: 0.0359 - accuracy: 0.9904\n",
            "Epoch 67/100\n",
            "30/30 [==============================] - 0s 9ms/step - loss: 0.0361 - accuracy: 0.9901\n",
            "Epoch 68/100\n",
            "30/30 [==============================] - 0s 9ms/step - loss: 0.0345 - accuracy: 0.9907\n",
            "Epoch 69/100\n",
            "30/30 [==============================] - 0s 9ms/step - loss: 0.0356 - accuracy: 0.9906\n",
            "Epoch 70/100\n",
            "30/30 [==============================] - 0s 9ms/step - loss: 0.0366 - accuracy: 0.9901\n",
            "Epoch 71/100\n",
            "30/30 [==============================] - 0s 9ms/step - loss: 0.0358 - accuracy: 0.9905\n",
            "Epoch 72/100\n",
            "30/30 [==============================] - 0s 9ms/step - loss: 0.0317 - accuracy: 0.9913\n",
            "Epoch 73/100\n",
            "30/30 [==============================] - 0s 10ms/step - loss: 0.0332 - accuracy: 0.9907\n",
            "Epoch 74/100\n",
            "30/30 [==============================] - 0s 9ms/step - loss: 0.0328 - accuracy: 0.9912\n",
            "Epoch 75/100\n",
            "30/30 [==============================] - 0s 7ms/step - loss: 0.0356 - accuracy: 0.9906\n",
            "Epoch 76/100\n",
            "30/30 [==============================] - 0s 7ms/step - loss: 0.0340 - accuracy: 0.9907\n",
            "Epoch 77/100\n",
            "30/30 [==============================] - 0s 6ms/step - loss: 0.0324 - accuracy: 0.9910\n",
            "Epoch 78/100\n",
            "30/30 [==============================] - 0s 8ms/step - loss: 0.0330 - accuracy: 0.9909\n",
            "Epoch 79/100\n",
            "30/30 [==============================] - 0s 6ms/step - loss: 0.0320 - accuracy: 0.9914\n",
            "Epoch 80/100\n",
            "30/30 [==============================] - 0s 6ms/step - loss: 0.0309 - accuracy: 0.9917\n",
            "Epoch 81/100\n",
            "30/30 [==============================] - 0s 7ms/step - loss: 0.0323 - accuracy: 0.9916\n",
            "Epoch 82/100\n",
            "30/30 [==============================] - 0s 7ms/step - loss: 0.0300 - accuracy: 0.9918\n",
            "Epoch 83/100\n",
            "30/30 [==============================] - 0s 7ms/step - loss: 0.0318 - accuracy: 0.9913\n",
            "Epoch 84/100\n",
            "30/30 [==============================] - 0s 7ms/step - loss: 0.0283 - accuracy: 0.9925\n",
            "Epoch 85/100\n",
            "30/30 [==============================] - 0s 7ms/step - loss: 0.0277 - accuracy: 0.9927\n",
            "Epoch 86/100\n",
            "30/30 [==============================] - 0s 6ms/step - loss: 0.0283 - accuracy: 0.9923\n",
            "Epoch 87/100\n",
            "30/30 [==============================] - 0s 7ms/step - loss: 0.0281 - accuracy: 0.9925\n",
            "Epoch 88/100\n",
            "30/30 [==============================] - 0s 6ms/step - loss: 0.0292 - accuracy: 0.9924\n",
            "Epoch 89/100\n",
            "30/30 [==============================] - 0s 7ms/step - loss: 0.0290 - accuracy: 0.9919\n",
            "Epoch 90/100\n",
            "30/30 [==============================] - 0s 7ms/step - loss: 0.0272 - accuracy: 0.9924\n",
            "Epoch 91/100\n",
            "30/30 [==============================] - 0s 7ms/step - loss: 0.0298 - accuracy: 0.9922\n",
            "Epoch 92/100\n",
            "30/30 [==============================] - 0s 7ms/step - loss: 0.0265 - accuracy: 0.9927\n",
            "Epoch 93/100\n",
            "30/30 [==============================] - 0s 7ms/step - loss: 0.0278 - accuracy: 0.9930\n",
            "Epoch 94/100\n",
            "30/30 [==============================] - 0s 7ms/step - loss: 0.0284 - accuracy: 0.9918\n",
            "Epoch 95/100\n",
            "30/30 [==============================] - 0s 7ms/step - loss: 0.0262 - accuracy: 0.9928\n",
            "Epoch 96/100\n",
            "30/30 [==============================] - 0s 7ms/step - loss: 0.0278 - accuracy: 0.9925\n",
            "Epoch 97/100\n",
            "30/30 [==============================] - 0s 7ms/step - loss: 0.0240 - accuracy: 0.9936\n",
            "Epoch 98/100\n",
            "30/30 [==============================] - 0s 7ms/step - loss: 0.0271 - accuracy: 0.9929\n",
            "Epoch 99/100\n",
            "30/30 [==============================] - 0s 7ms/step - loss: 0.0265 - accuracy: 0.9929\n",
            "Epoch 100/100\n",
            "30/30 [==============================] - 0s 7ms/step - loss: 0.0252 - accuracy: 0.9931\n"
          ]
        }
      ]
    },
    {
      "cell_type": "code",
      "metadata": {
        "id": "fdccBMsuI3YL",
        "colab": {
          "base_uri": "https://localhost:8080/"
        },
        "outputId": "c68859b4-e1c6-4bc4-c77c-b0adad476eeb"
      },
      "source": [
        "accuracy = model.evaluate(x=test_x,y=test_y,batch_size=1024)\n",
        "\n",
        "print(\"Accuracy: \",accuracy[1])"
      ],
      "execution_count": 29,
      "outputs": [
        {
          "output_type": "stream",
          "name": "stdout",
          "text": [
            "10/10 [==============================] - 0s 4ms/step - loss: 0.0916 - accuracy: 0.9817\n",
            "Accuracy:  0.9817000031471252\n"
          ]
        }
      ]
    },
    {
      "cell_type": "code",
      "metadata": {
        "id": "q_YJw7KxLaUM",
        "colab": {
          "base_uri": "https://localhost:8080/"
        },
        "outputId": "65e8539a-b5d5-481d-8ea2-757e4cdebf67"
      },
      "source": [
        "H.history.keys() # To check which information does it contain"
      ],
      "execution_count": 30,
      "outputs": [
        {
          "output_type": "execute_result",
          "data": {
            "text/plain": [
              "dict_keys(['loss', 'accuracy'])"
            ]
          },
          "metadata": {},
          "execution_count": 30
        }
      ]
    },
    {
      "cell_type": "code",
      "metadata": {
        "id": "678alk6DsXJ9",
        "colab": {
          "base_uri": "https://localhost:8080/"
        },
        "outputId": "bef2a14b-e3e7-45f1-9368-ad74bcd70dd7"
      },
      "source": [
        "H.history['accuracy']"
      ],
      "execution_count": 31,
      "outputs": [
        {
          "output_type": "execute_result",
          "data": {
            "text/plain": [
              "[0.38706666231155396,\n",
              " 0.7511666417121887,\n",
              " 0.8669333457946777,\n",
              " 0.9049500226974487,\n",
              " 0.9223166704177856,\n",
              " 0.9340000152587891,\n",
              " 0.943149983882904,\n",
              " 0.9466500282287598,\n",
              " 0.9524499773979187,\n",
              " 0.9562666416168213,\n",
              " 0.9601500034332275,\n",
              " 0.9629666805267334,\n",
              " 0.963949978351593,\n",
              " 0.9663833379745483,\n",
              " 0.9679833054542542,\n",
              " 0.9691166877746582,\n",
              " 0.970966637134552,\n",
              " 0.9726333618164062,\n",
              " 0.9726666808128357,\n",
              " 0.9740166664123535,\n",
              " 0.973966658115387,\n",
              " 0.9755666851997375,\n",
              " 0.9771333336830139,\n",
              " 0.9778000116348267,\n",
              " 0.9785833358764648,\n",
              " 0.9792333245277405,\n",
              " 0.9784833192825317,\n",
              " 0.9797833561897278,\n",
              " 0.9806166887283325,\n",
              " 0.9819166660308838,\n",
              " 0.9821666479110718,\n",
              " 0.9816833138465881,\n",
              " 0.9828166961669922,\n",
              " 0.982283353805542,\n",
              " 0.9827166795730591,\n",
              " 0.9836000204086304,\n",
              " 0.9848333597183228,\n",
              " 0.9842000007629395,\n",
              " 0.9845499992370605,\n",
              " 0.9848333597183228,\n",
              " 0.9851166605949402,\n",
              " 0.9856500029563904,\n",
              " 0.9866333603858948,\n",
              " 0.9867500066757202,\n",
              " 0.9863499999046326,\n",
              " 0.9877333045005798,\n",
              " 0.9866499900817871,\n",
              " 0.9867666959762573,\n",
              " 0.9864333271980286,\n",
              " 0.9868833422660828,\n",
              " 0.9876333475112915,\n",
              " 0.988099992275238,\n",
              " 0.9880333542823792,\n",
              " 0.9879999756813049,\n",
              " 0.9884499907493591,\n",
              " 0.9885500073432922,\n",
              " 0.9891499876976013,\n",
              " 0.9895833134651184,\n",
              " 0.989466667175293,\n",
              " 0.9884999990463257,\n",
              " 0.9896166920661926,\n",
              " 0.9899166822433472,\n",
              " 0.9903500080108643,\n",
              " 0.9907500147819519,\n",
              " 0.9902166724205017,\n",
              " 0.9903500080108643,\n",
              " 0.990066647529602,\n",
              " 0.9906666874885559,\n",
              " 0.9905999898910522,\n",
              " 0.990149974822998,\n",
              " 0.9905333518981934,\n",
              " 0.9912999868392944,\n",
              " 0.9907000064849854,\n",
              " 0.9912166595458984,\n",
              " 0.9906333088874817,\n",
              " 0.9906833171844482,\n",
              " 0.991016685962677,\n",
              " 0.9908666610717773,\n",
              " 0.991433322429657,\n",
              " 0.991683304309845,\n",
              " 0.991599977016449,\n",
              " 0.9918166399002075,\n",
              " 0.9912833571434021,\n",
              " 0.9925000071525574,\n",
              " 0.9926833510398865,\n",
              " 0.9922833442687988,\n",
              " 0.9925166964530945,\n",
              " 0.9924333095550537,\n",
              " 0.9918666481971741,\n",
              " 0.9924333095550537,\n",
              " 0.9921666383743286,\n",
              " 0.992733359336853,\n",
              " 0.9929999709129333,\n",
              " 0.9917666912078857,\n",
              " 0.9927833080291748,\n",
              " 0.9925000071525574,\n",
              " 0.9936166405677795,\n",
              " 0.992900013923645,\n",
              " 0.9928666949272156,\n",
              " 0.9931333065032959]"
            ]
          },
          "metadata": {},
          "execution_count": 31
        }
      ]
    },
    {
      "cell_type": "code",
      "metadata": {
        "id": "dOoPm_A3LrDU",
        "colab": {
          "base_uri": "https://localhost:8080/",
          "height": 542
        },
        "outputId": "879cab88-a2ef-47ae-ac68-7267179bcdd0"
      },
      "source": [
        "import plotly.express as px\n",
        "\n",
        "px.line(y=H.history['accuracy'],title='Accuracy')"
      ],
      "execution_count": 32,
      "outputs": [
        {
          "output_type": "display_data",
          "data": {
            "text/html": [
              "<html>\n",
              "<head><meta charset=\"utf-8\" /></head>\n",
              "<body>\n",
              "    <div>            <script src=\"https://cdnjs.cloudflare.com/ajax/libs/mathjax/2.7.5/MathJax.js?config=TeX-AMS-MML_SVG\"></script><script type=\"text/javascript\">if (window.MathJax && window.MathJax.Hub && window.MathJax.Hub.Config) {window.MathJax.Hub.Config({SVG: {font: \"STIX-Web\"}});}</script>                <script type=\"text/javascript\">window.PlotlyConfig = {MathJaxConfig: 'local'};</script>\n",
              "        <script src=\"https://cdn.plot.ly/plotly-2.18.2.min.js\"></script>                <div id=\"7d46db55-1148-4c5b-9176-9cea92a421e9\" class=\"plotly-graph-div\" style=\"height:525px; width:100%;\"></div>            <script type=\"text/javascript\">                                    window.PLOTLYENV=window.PLOTLYENV || {};                                    if (document.getElementById(\"7d46db55-1148-4c5b-9176-9cea92a421e9\")) {                    Plotly.newPlot(                        \"7d46db55-1148-4c5b-9176-9cea92a421e9\",                        [{\"hovertemplate\":\"x=%{x}<br>y=%{y}<extra></extra>\",\"legendgroup\":\"\",\"line\":{\"color\":\"#636efa\",\"dash\":\"solid\"},\"marker\":{\"symbol\":\"circle\"},\"mode\":\"lines\",\"name\":\"\",\"orientation\":\"v\",\"showlegend\":false,\"x\":[0,1,2,3,4,5,6,7,8,9,10,11,12,13,14,15,16,17,18,19,20,21,22,23,24,25,26,27,28,29,30,31,32,33,34,35,36,37,38,39,40,41,42,43,44,45,46,47,48,49,50,51,52,53,54,55,56,57,58,59,60,61,62,63,64,65,66,67,68,69,70,71,72,73,74,75,76,77,78,79,80,81,82,83,84,85,86,87,88,89,90,91,92,93,94,95,96,97,98,99],\"xaxis\":\"x\",\"y\":[0.38706666231155396,0.7511666417121887,0.8669333457946777,0.9049500226974487,0.9223166704177856,0.9340000152587891,0.943149983882904,0.9466500282287598,0.9524499773979187,0.9562666416168213,0.9601500034332275,0.9629666805267334,0.963949978351593,0.9663833379745483,0.9679833054542542,0.9691166877746582,0.970966637134552,0.9726333618164062,0.9726666808128357,0.9740166664123535,0.973966658115387,0.9755666851997375,0.9771333336830139,0.9778000116348267,0.9785833358764648,0.9792333245277405,0.9784833192825317,0.9797833561897278,0.9806166887283325,0.9819166660308838,0.9821666479110718,0.9816833138465881,0.9828166961669922,0.982283353805542,0.9827166795730591,0.9836000204086304,0.9848333597183228,0.9842000007629395,0.9845499992370605,0.9848333597183228,0.9851166605949402,0.9856500029563904,0.9866333603858948,0.9867500066757202,0.9863499999046326,0.9877333045005798,0.9866499900817871,0.9867666959762573,0.9864333271980286,0.9868833422660828,0.9876333475112915,0.988099992275238,0.9880333542823792,0.9879999756813049,0.9884499907493591,0.9885500073432922,0.9891499876976013,0.9895833134651184,0.989466667175293,0.9884999990463257,0.9896166920661926,0.9899166822433472,0.9903500080108643,0.9907500147819519,0.9902166724205017,0.9903500080108643,0.990066647529602,0.9906666874885559,0.9905999898910522,0.990149974822998,0.9905333518981934,0.9912999868392944,0.9907000064849854,0.9912166595458984,0.9906333088874817,0.9906833171844482,0.991016685962677,0.9908666610717773,0.991433322429657,0.991683304309845,0.991599977016449,0.9918166399002075,0.9912833571434021,0.9925000071525574,0.9926833510398865,0.9922833442687988,0.9925166964530945,0.9924333095550537,0.9918666481971741,0.9924333095550537,0.9921666383743286,0.992733359336853,0.9929999709129333,0.9917666912078857,0.9927833080291748,0.9925000071525574,0.9936166405677795,0.992900013923645,0.9928666949272156,0.9931333065032959],\"yaxis\":\"y\",\"type\":\"scatter\"}],                        {\"template\":{\"data\":{\"histogram2dcontour\":[{\"type\":\"histogram2dcontour\",\"colorbar\":{\"outlinewidth\":0,\"ticks\":\"\"},\"colorscale\":[[0.0,\"#0d0887\"],[0.1111111111111111,\"#46039f\"],[0.2222222222222222,\"#7201a8\"],[0.3333333333333333,\"#9c179e\"],[0.4444444444444444,\"#bd3786\"],[0.5555555555555556,\"#d8576b\"],[0.6666666666666666,\"#ed7953\"],[0.7777777777777778,\"#fb9f3a\"],[0.8888888888888888,\"#fdca26\"],[1.0,\"#f0f921\"]]}],\"choropleth\":[{\"type\":\"choropleth\",\"colorbar\":{\"outlinewidth\":0,\"ticks\":\"\"}}],\"histogram2d\":[{\"type\":\"histogram2d\",\"colorbar\":{\"outlinewidth\":0,\"ticks\":\"\"},\"colorscale\":[[0.0,\"#0d0887\"],[0.1111111111111111,\"#46039f\"],[0.2222222222222222,\"#7201a8\"],[0.3333333333333333,\"#9c179e\"],[0.4444444444444444,\"#bd3786\"],[0.5555555555555556,\"#d8576b\"],[0.6666666666666666,\"#ed7953\"],[0.7777777777777778,\"#fb9f3a\"],[0.8888888888888888,\"#fdca26\"],[1.0,\"#f0f921\"]]}],\"heatmap\":[{\"type\":\"heatmap\",\"colorbar\":{\"outlinewidth\":0,\"ticks\":\"\"},\"colorscale\":[[0.0,\"#0d0887\"],[0.1111111111111111,\"#46039f\"],[0.2222222222222222,\"#7201a8\"],[0.3333333333333333,\"#9c179e\"],[0.4444444444444444,\"#bd3786\"],[0.5555555555555556,\"#d8576b\"],[0.6666666666666666,\"#ed7953\"],[0.7777777777777778,\"#fb9f3a\"],[0.8888888888888888,\"#fdca26\"],[1.0,\"#f0f921\"]]}],\"heatmapgl\":[{\"type\":\"heatmapgl\",\"colorbar\":{\"outlinewidth\":0,\"ticks\":\"\"},\"colorscale\":[[0.0,\"#0d0887\"],[0.1111111111111111,\"#46039f\"],[0.2222222222222222,\"#7201a8\"],[0.3333333333333333,\"#9c179e\"],[0.4444444444444444,\"#bd3786\"],[0.5555555555555556,\"#d8576b\"],[0.6666666666666666,\"#ed7953\"],[0.7777777777777778,\"#fb9f3a\"],[0.8888888888888888,\"#fdca26\"],[1.0,\"#f0f921\"]]}],\"contourcarpet\":[{\"type\":\"contourcarpet\",\"colorbar\":{\"outlinewidth\":0,\"ticks\":\"\"}}],\"contour\":[{\"type\":\"contour\",\"colorbar\":{\"outlinewidth\":0,\"ticks\":\"\"},\"colorscale\":[[0.0,\"#0d0887\"],[0.1111111111111111,\"#46039f\"],[0.2222222222222222,\"#7201a8\"],[0.3333333333333333,\"#9c179e\"],[0.4444444444444444,\"#bd3786\"],[0.5555555555555556,\"#d8576b\"],[0.6666666666666666,\"#ed7953\"],[0.7777777777777778,\"#fb9f3a\"],[0.8888888888888888,\"#fdca26\"],[1.0,\"#f0f921\"]]}],\"surface\":[{\"type\":\"surface\",\"colorbar\":{\"outlinewidth\":0,\"ticks\":\"\"},\"colorscale\":[[0.0,\"#0d0887\"],[0.1111111111111111,\"#46039f\"],[0.2222222222222222,\"#7201a8\"],[0.3333333333333333,\"#9c179e\"],[0.4444444444444444,\"#bd3786\"],[0.5555555555555556,\"#d8576b\"],[0.6666666666666666,\"#ed7953\"],[0.7777777777777778,\"#fb9f3a\"],[0.8888888888888888,\"#fdca26\"],[1.0,\"#f0f921\"]]}],\"mesh3d\":[{\"type\":\"mesh3d\",\"colorbar\":{\"outlinewidth\":0,\"ticks\":\"\"}}],\"scatter\":[{\"fillpattern\":{\"fillmode\":\"overlay\",\"size\":10,\"solidity\":0.2},\"type\":\"scatter\"}],\"parcoords\":[{\"type\":\"parcoords\",\"line\":{\"colorbar\":{\"outlinewidth\":0,\"ticks\":\"\"}}}],\"scatterpolargl\":[{\"type\":\"scatterpolargl\",\"marker\":{\"colorbar\":{\"outlinewidth\":0,\"ticks\":\"\"}}}],\"bar\":[{\"error_x\":{\"color\":\"#2a3f5f\"},\"error_y\":{\"color\":\"#2a3f5f\"},\"marker\":{\"line\":{\"color\":\"#E5ECF6\",\"width\":0.5},\"pattern\":{\"fillmode\":\"overlay\",\"size\":10,\"solidity\":0.2}},\"type\":\"bar\"}],\"scattergeo\":[{\"type\":\"scattergeo\",\"marker\":{\"colorbar\":{\"outlinewidth\":0,\"ticks\":\"\"}}}],\"scatterpolar\":[{\"type\":\"scatterpolar\",\"marker\":{\"colorbar\":{\"outlinewidth\":0,\"ticks\":\"\"}}}],\"histogram\":[{\"marker\":{\"pattern\":{\"fillmode\":\"overlay\",\"size\":10,\"solidity\":0.2}},\"type\":\"histogram\"}],\"scattergl\":[{\"type\":\"scattergl\",\"marker\":{\"colorbar\":{\"outlinewidth\":0,\"ticks\":\"\"}}}],\"scatter3d\":[{\"type\":\"scatter3d\",\"line\":{\"colorbar\":{\"outlinewidth\":0,\"ticks\":\"\"}},\"marker\":{\"colorbar\":{\"outlinewidth\":0,\"ticks\":\"\"}}}],\"scattermapbox\":[{\"type\":\"scattermapbox\",\"marker\":{\"colorbar\":{\"outlinewidth\":0,\"ticks\":\"\"}}}],\"scatterternary\":[{\"type\":\"scatterternary\",\"marker\":{\"colorbar\":{\"outlinewidth\":0,\"ticks\":\"\"}}}],\"scattercarpet\":[{\"type\":\"scattercarpet\",\"marker\":{\"colorbar\":{\"outlinewidth\":0,\"ticks\":\"\"}}}],\"carpet\":[{\"aaxis\":{\"endlinecolor\":\"#2a3f5f\",\"gridcolor\":\"white\",\"linecolor\":\"white\",\"minorgridcolor\":\"white\",\"startlinecolor\":\"#2a3f5f\"},\"baxis\":{\"endlinecolor\":\"#2a3f5f\",\"gridcolor\":\"white\",\"linecolor\":\"white\",\"minorgridcolor\":\"white\",\"startlinecolor\":\"#2a3f5f\"},\"type\":\"carpet\"}],\"table\":[{\"cells\":{\"fill\":{\"color\":\"#EBF0F8\"},\"line\":{\"color\":\"white\"}},\"header\":{\"fill\":{\"color\":\"#C8D4E3\"},\"line\":{\"color\":\"white\"}},\"type\":\"table\"}],\"barpolar\":[{\"marker\":{\"line\":{\"color\":\"#E5ECF6\",\"width\":0.5},\"pattern\":{\"fillmode\":\"overlay\",\"size\":10,\"solidity\":0.2}},\"type\":\"barpolar\"}],\"pie\":[{\"automargin\":true,\"type\":\"pie\"}]},\"layout\":{\"autotypenumbers\":\"strict\",\"colorway\":[\"#636efa\",\"#EF553B\",\"#00cc96\",\"#ab63fa\",\"#FFA15A\",\"#19d3f3\",\"#FF6692\",\"#B6E880\",\"#FF97FF\",\"#FECB52\"],\"font\":{\"color\":\"#2a3f5f\"},\"hovermode\":\"closest\",\"hoverlabel\":{\"align\":\"left\"},\"paper_bgcolor\":\"white\",\"plot_bgcolor\":\"#E5ECF6\",\"polar\":{\"bgcolor\":\"#E5ECF6\",\"angularaxis\":{\"gridcolor\":\"white\",\"linecolor\":\"white\",\"ticks\":\"\"},\"radialaxis\":{\"gridcolor\":\"white\",\"linecolor\":\"white\",\"ticks\":\"\"}},\"ternary\":{\"bgcolor\":\"#E5ECF6\",\"aaxis\":{\"gridcolor\":\"white\",\"linecolor\":\"white\",\"ticks\":\"\"},\"baxis\":{\"gridcolor\":\"white\",\"linecolor\":\"white\",\"ticks\":\"\"},\"caxis\":{\"gridcolor\":\"white\",\"linecolor\":\"white\",\"ticks\":\"\"}},\"coloraxis\":{\"colorbar\":{\"outlinewidth\":0,\"ticks\":\"\"}},\"colorscale\":{\"sequential\":[[0.0,\"#0d0887\"],[0.1111111111111111,\"#46039f\"],[0.2222222222222222,\"#7201a8\"],[0.3333333333333333,\"#9c179e\"],[0.4444444444444444,\"#bd3786\"],[0.5555555555555556,\"#d8576b\"],[0.6666666666666666,\"#ed7953\"],[0.7777777777777778,\"#fb9f3a\"],[0.8888888888888888,\"#fdca26\"],[1.0,\"#f0f921\"]],\"sequentialminus\":[[0.0,\"#0d0887\"],[0.1111111111111111,\"#46039f\"],[0.2222222222222222,\"#7201a8\"],[0.3333333333333333,\"#9c179e\"],[0.4444444444444444,\"#bd3786\"],[0.5555555555555556,\"#d8576b\"],[0.6666666666666666,\"#ed7953\"],[0.7777777777777778,\"#fb9f3a\"],[0.8888888888888888,\"#fdca26\"],[1.0,\"#f0f921\"]],\"diverging\":[[0,\"#8e0152\"],[0.1,\"#c51b7d\"],[0.2,\"#de77ae\"],[0.3,\"#f1b6da\"],[0.4,\"#fde0ef\"],[0.5,\"#f7f7f7\"],[0.6,\"#e6f5d0\"],[0.7,\"#b8e186\"],[0.8,\"#7fbc41\"],[0.9,\"#4d9221\"],[1,\"#276419\"]]},\"xaxis\":{\"gridcolor\":\"white\",\"linecolor\":\"white\",\"ticks\":\"\",\"title\":{\"standoff\":15},\"zerolinecolor\":\"white\",\"automargin\":true,\"zerolinewidth\":2},\"yaxis\":{\"gridcolor\":\"white\",\"linecolor\":\"white\",\"ticks\":\"\",\"title\":{\"standoff\":15},\"zerolinecolor\":\"white\",\"automargin\":true,\"zerolinewidth\":2},\"scene\":{\"xaxis\":{\"backgroundcolor\":\"#E5ECF6\",\"gridcolor\":\"white\",\"linecolor\":\"white\",\"showbackground\":true,\"ticks\":\"\",\"zerolinecolor\":\"white\",\"gridwidth\":2},\"yaxis\":{\"backgroundcolor\":\"#E5ECF6\",\"gridcolor\":\"white\",\"linecolor\":\"white\",\"showbackground\":true,\"ticks\":\"\",\"zerolinecolor\":\"white\",\"gridwidth\":2},\"zaxis\":{\"backgroundcolor\":\"#E5ECF6\",\"gridcolor\":\"white\",\"linecolor\":\"white\",\"showbackground\":true,\"ticks\":\"\",\"zerolinecolor\":\"white\",\"gridwidth\":2}},\"shapedefaults\":{\"line\":{\"color\":\"#2a3f5f\"}},\"annotationdefaults\":{\"arrowcolor\":\"#2a3f5f\",\"arrowhead\":0,\"arrowwidth\":1},\"geo\":{\"bgcolor\":\"white\",\"landcolor\":\"#E5ECF6\",\"subunitcolor\":\"white\",\"showland\":true,\"showlakes\":true,\"lakecolor\":\"white\"},\"title\":{\"x\":0.05},\"mapbox\":{\"style\":\"light\"}}},\"xaxis\":{\"anchor\":\"y\",\"domain\":[0.0,1.0],\"title\":{\"text\":\"x\"}},\"yaxis\":{\"anchor\":\"x\",\"domain\":[0.0,1.0],\"title\":{\"text\":\"y\"}},\"legend\":{\"tracegroupgap\":0},\"title\":{\"text\":\"Accuracy\"}},                        {\"responsive\": true}                    ).then(function(){\n",
              "                            \n",
              "var gd = document.getElementById('7d46db55-1148-4c5b-9176-9cea92a421e9');\n",
              "var x = new MutationObserver(function (mutations, observer) {{\n",
              "        var display = window.getComputedStyle(gd).display;\n",
              "        if (!display || display === 'none') {{\n",
              "            console.log([gd, 'removed!']);\n",
              "            Plotly.purge(gd);\n",
              "            observer.disconnect();\n",
              "        }}\n",
              "}});\n",
              "\n",
              "// Listen for the removal of the full notebook cells\n",
              "var notebookContainer = gd.closest('#notebook-container');\n",
              "if (notebookContainer) {{\n",
              "    x.observe(notebookContainer, {childList: true});\n",
              "}}\n",
              "\n",
              "// Listen for the clearing of the current output cell\n",
              "var outputEl = gd.closest('.output');\n",
              "if (outputEl) {{\n",
              "    x.observe(outputEl, {childList: true});\n",
              "}}\n",
              "\n",
              "                        })                };                            </script>        </div>\n",
              "</body>\n",
              "</html>"
            ]
          },
          "metadata": {}
        }
      ]
    },
    {
      "cell_type": "code",
      "metadata": {
        "id": "m7i_YRX8m2gc",
        "colab": {
          "base_uri": "https://localhost:8080/",
          "height": 542
        },
        "outputId": "72e74635-dade-4616-9c70-4d9c4f772632"
      },
      "source": [
        "px.line(y=H.history['loss'],title='Loss')"
      ],
      "execution_count": 33,
      "outputs": [
        {
          "output_type": "display_data",
          "data": {
            "text/html": [
              "<html>\n",
              "<head><meta charset=\"utf-8\" /></head>\n",
              "<body>\n",
              "    <div>            <script src=\"https://cdnjs.cloudflare.com/ajax/libs/mathjax/2.7.5/MathJax.js?config=TeX-AMS-MML_SVG\"></script><script type=\"text/javascript\">if (window.MathJax && window.MathJax.Hub && window.MathJax.Hub.Config) {window.MathJax.Hub.Config({SVG: {font: \"STIX-Web\"}});}</script>                <script type=\"text/javascript\">window.PlotlyConfig = {MathJaxConfig: 'local'};</script>\n",
              "        <script src=\"https://cdn.plot.ly/plotly-2.18.2.min.js\"></script>                <div id=\"a24e6a7b-ff55-4396-9dc5-756f7bad69e7\" class=\"plotly-graph-div\" style=\"height:525px; width:100%;\"></div>            <script type=\"text/javascript\">                                    window.PLOTLYENV=window.PLOTLYENV || {};                                    if (document.getElementById(\"a24e6a7b-ff55-4396-9dc5-756f7bad69e7\")) {                    Plotly.newPlot(                        \"a24e6a7b-ff55-4396-9dc5-756f7bad69e7\",                        [{\"hovertemplate\":\"x=%{x}<br>y=%{y}<extra></extra>\",\"legendgroup\":\"\",\"line\":{\"color\":\"#636efa\",\"dash\":\"solid\"},\"marker\":{\"symbol\":\"circle\"},\"mode\":\"lines\",\"name\":\"\",\"orientation\":\"v\",\"showlegend\":false,\"x\":[0,1,2,3,4,5,6,7,8,9,10,11,12,13,14,15,16,17,18,19,20,21,22,23,24,25,26,27,28,29,30,31,32,33,34,35,36,37,38,39,40,41,42,43,44,45,46,47,48,49,50,51,52,53,54,55,56,57,58,59,60,61,62,63,64,65,66,67,68,69,70,71,72,73,74,75,76,77,78,79,80,81,82,83,84,85,86,87,88,89,90,91,92,93,94,95,96,97,98,99],\"xaxis\":\"x\",\"y\":[1.745883584022522,0.7708709239959717,0.4665141701698303,0.3534557521343231,0.2930232286453247,0.25402042269706726,0.22277872264385223,0.20840032398700714,0.18622252345085144,0.16776776313781738,0.1581474244594574,0.14498765766620636,0.1421322375535965,0.13168591260910034,0.12490253895521164,0.1200907751917839,0.1131855696439743,0.10823734849691391,0.10510844737291336,0.1000184416770935,0.09728921204805374,0.09420453757047653,0.09017547219991684,0.08355162292718887,0.08376818150281906,0.08036229014396667,0.0787799134850502,0.07466759532690048,0.07233560085296631,0.06997182965278625,0.06918018311262131,0.06985748559236526,0.06501614302396774,0.06487443298101425,0.06521125137805939,0.06102811172604561,0.058457084000110626,0.05903401970863342,0.05840366706252098,0.05787525326013565,0.05622466653585434,0.05512175336480141,0.05128221586346626,0.050224222242832184,0.05115216597914696,0.046243563294410706,0.04977244883775711,0.05009913071990013,0.051532503217458725,0.0476565845310688,0.04681841656565666,0.04447398707270622,0.044278472661972046,0.04271721467375755,0.043584875762462616,0.041618578135967255,0.04078197851777077,0.03928742557764053,0.041090160608291626,0.04270034283399582,0.040271807461977005,0.038199301809072495,0.03529154509305954,0.03669390082359314,0.03578900173306465,0.035944048315286636,0.03614884614944458,0.03445231914520264,0.03561908379197121,0.036553915590047836,0.035849981009960175,0.031721726059913635,0.03318554162979126,0.032837994396686554,0.035579975694417953,0.03396071493625641,0.03238803893327713,0.03298905864357948,0.03195638209581375,0.030871139839291573,0.03230627626180649,0.030018160119652748,0.03181541711091995,0.028330067172646523,0.02765727788209915,0.02832251787185669,0.028091762214899063,0.029162906110286713,0.028988078236579895,0.02724759466946125,0.029816828668117523,0.026511535048484802,0.02781940996646881,0.028404252603650093,0.026174679398536682,0.02777780219912529,0.02399584837257862,0.027108527719974518,0.026498042047023773,0.025191165506839752],\"yaxis\":\"y\",\"type\":\"scatter\"}],                        {\"template\":{\"data\":{\"histogram2dcontour\":[{\"type\":\"histogram2dcontour\",\"colorbar\":{\"outlinewidth\":0,\"ticks\":\"\"},\"colorscale\":[[0.0,\"#0d0887\"],[0.1111111111111111,\"#46039f\"],[0.2222222222222222,\"#7201a8\"],[0.3333333333333333,\"#9c179e\"],[0.4444444444444444,\"#bd3786\"],[0.5555555555555556,\"#d8576b\"],[0.6666666666666666,\"#ed7953\"],[0.7777777777777778,\"#fb9f3a\"],[0.8888888888888888,\"#fdca26\"],[1.0,\"#f0f921\"]]}],\"choropleth\":[{\"type\":\"choropleth\",\"colorbar\":{\"outlinewidth\":0,\"ticks\":\"\"}}],\"histogram2d\":[{\"type\":\"histogram2d\",\"colorbar\":{\"outlinewidth\":0,\"ticks\":\"\"},\"colorscale\":[[0.0,\"#0d0887\"],[0.1111111111111111,\"#46039f\"],[0.2222222222222222,\"#7201a8\"],[0.3333333333333333,\"#9c179e\"],[0.4444444444444444,\"#bd3786\"],[0.5555555555555556,\"#d8576b\"],[0.6666666666666666,\"#ed7953\"],[0.7777777777777778,\"#fb9f3a\"],[0.8888888888888888,\"#fdca26\"],[1.0,\"#f0f921\"]]}],\"heatmap\":[{\"type\":\"heatmap\",\"colorbar\":{\"outlinewidth\":0,\"ticks\":\"\"},\"colorscale\":[[0.0,\"#0d0887\"],[0.1111111111111111,\"#46039f\"],[0.2222222222222222,\"#7201a8\"],[0.3333333333333333,\"#9c179e\"],[0.4444444444444444,\"#bd3786\"],[0.5555555555555556,\"#d8576b\"],[0.6666666666666666,\"#ed7953\"],[0.7777777777777778,\"#fb9f3a\"],[0.8888888888888888,\"#fdca26\"],[1.0,\"#f0f921\"]]}],\"heatmapgl\":[{\"type\":\"heatmapgl\",\"colorbar\":{\"outlinewidth\":0,\"ticks\":\"\"},\"colorscale\":[[0.0,\"#0d0887\"],[0.1111111111111111,\"#46039f\"],[0.2222222222222222,\"#7201a8\"],[0.3333333333333333,\"#9c179e\"],[0.4444444444444444,\"#bd3786\"],[0.5555555555555556,\"#d8576b\"],[0.6666666666666666,\"#ed7953\"],[0.7777777777777778,\"#fb9f3a\"],[0.8888888888888888,\"#fdca26\"],[1.0,\"#f0f921\"]]}],\"contourcarpet\":[{\"type\":\"contourcarpet\",\"colorbar\":{\"outlinewidth\":0,\"ticks\":\"\"}}],\"contour\":[{\"type\":\"contour\",\"colorbar\":{\"outlinewidth\":0,\"ticks\":\"\"},\"colorscale\":[[0.0,\"#0d0887\"],[0.1111111111111111,\"#46039f\"],[0.2222222222222222,\"#7201a8\"],[0.3333333333333333,\"#9c179e\"],[0.4444444444444444,\"#bd3786\"],[0.5555555555555556,\"#d8576b\"],[0.6666666666666666,\"#ed7953\"],[0.7777777777777778,\"#fb9f3a\"],[0.8888888888888888,\"#fdca26\"],[1.0,\"#f0f921\"]]}],\"surface\":[{\"type\":\"surface\",\"colorbar\":{\"outlinewidth\":0,\"ticks\":\"\"},\"colorscale\":[[0.0,\"#0d0887\"],[0.1111111111111111,\"#46039f\"],[0.2222222222222222,\"#7201a8\"],[0.3333333333333333,\"#9c179e\"],[0.4444444444444444,\"#bd3786\"],[0.5555555555555556,\"#d8576b\"],[0.6666666666666666,\"#ed7953\"],[0.7777777777777778,\"#fb9f3a\"],[0.8888888888888888,\"#fdca26\"],[1.0,\"#f0f921\"]]}],\"mesh3d\":[{\"type\":\"mesh3d\",\"colorbar\":{\"outlinewidth\":0,\"ticks\":\"\"}}],\"scatter\":[{\"fillpattern\":{\"fillmode\":\"overlay\",\"size\":10,\"solidity\":0.2},\"type\":\"scatter\"}],\"parcoords\":[{\"type\":\"parcoords\",\"line\":{\"colorbar\":{\"outlinewidth\":0,\"ticks\":\"\"}}}],\"scatterpolargl\":[{\"type\":\"scatterpolargl\",\"marker\":{\"colorbar\":{\"outlinewidth\":0,\"ticks\":\"\"}}}],\"bar\":[{\"error_x\":{\"color\":\"#2a3f5f\"},\"error_y\":{\"color\":\"#2a3f5f\"},\"marker\":{\"line\":{\"color\":\"#E5ECF6\",\"width\":0.5},\"pattern\":{\"fillmode\":\"overlay\",\"size\":10,\"solidity\":0.2}},\"type\":\"bar\"}],\"scattergeo\":[{\"type\":\"scattergeo\",\"marker\":{\"colorbar\":{\"outlinewidth\":0,\"ticks\":\"\"}}}],\"scatterpolar\":[{\"type\":\"scatterpolar\",\"marker\":{\"colorbar\":{\"outlinewidth\":0,\"ticks\":\"\"}}}],\"histogram\":[{\"marker\":{\"pattern\":{\"fillmode\":\"overlay\",\"size\":10,\"solidity\":0.2}},\"type\":\"histogram\"}],\"scattergl\":[{\"type\":\"scattergl\",\"marker\":{\"colorbar\":{\"outlinewidth\":0,\"ticks\":\"\"}}}],\"scatter3d\":[{\"type\":\"scatter3d\",\"line\":{\"colorbar\":{\"outlinewidth\":0,\"ticks\":\"\"}},\"marker\":{\"colorbar\":{\"outlinewidth\":0,\"ticks\":\"\"}}}],\"scattermapbox\":[{\"type\":\"scattermapbox\",\"marker\":{\"colorbar\":{\"outlinewidth\":0,\"ticks\":\"\"}}}],\"scatterternary\":[{\"type\":\"scatterternary\",\"marker\":{\"colorbar\":{\"outlinewidth\":0,\"ticks\":\"\"}}}],\"scattercarpet\":[{\"type\":\"scattercarpet\",\"marker\":{\"colorbar\":{\"outlinewidth\":0,\"ticks\":\"\"}}}],\"carpet\":[{\"aaxis\":{\"endlinecolor\":\"#2a3f5f\",\"gridcolor\":\"white\",\"linecolor\":\"white\",\"minorgridcolor\":\"white\",\"startlinecolor\":\"#2a3f5f\"},\"baxis\":{\"endlinecolor\":\"#2a3f5f\",\"gridcolor\":\"white\",\"linecolor\":\"white\",\"minorgridcolor\":\"white\",\"startlinecolor\":\"#2a3f5f\"},\"type\":\"carpet\"}],\"table\":[{\"cells\":{\"fill\":{\"color\":\"#EBF0F8\"},\"line\":{\"color\":\"white\"}},\"header\":{\"fill\":{\"color\":\"#C8D4E3\"},\"line\":{\"color\":\"white\"}},\"type\":\"table\"}],\"barpolar\":[{\"marker\":{\"line\":{\"color\":\"#E5ECF6\",\"width\":0.5},\"pattern\":{\"fillmode\":\"overlay\",\"size\":10,\"solidity\":0.2}},\"type\":\"barpolar\"}],\"pie\":[{\"automargin\":true,\"type\":\"pie\"}]},\"layout\":{\"autotypenumbers\":\"strict\",\"colorway\":[\"#636efa\",\"#EF553B\",\"#00cc96\",\"#ab63fa\",\"#FFA15A\",\"#19d3f3\",\"#FF6692\",\"#B6E880\",\"#FF97FF\",\"#FECB52\"],\"font\":{\"color\":\"#2a3f5f\"},\"hovermode\":\"closest\",\"hoverlabel\":{\"align\":\"left\"},\"paper_bgcolor\":\"white\",\"plot_bgcolor\":\"#E5ECF6\",\"polar\":{\"bgcolor\":\"#E5ECF6\",\"angularaxis\":{\"gridcolor\":\"white\",\"linecolor\":\"white\",\"ticks\":\"\"},\"radialaxis\":{\"gridcolor\":\"white\",\"linecolor\":\"white\",\"ticks\":\"\"}},\"ternary\":{\"bgcolor\":\"#E5ECF6\",\"aaxis\":{\"gridcolor\":\"white\",\"linecolor\":\"white\",\"ticks\":\"\"},\"baxis\":{\"gridcolor\":\"white\",\"linecolor\":\"white\",\"ticks\":\"\"},\"caxis\":{\"gridcolor\":\"white\",\"linecolor\":\"white\",\"ticks\":\"\"}},\"coloraxis\":{\"colorbar\":{\"outlinewidth\":0,\"ticks\":\"\"}},\"colorscale\":{\"sequential\":[[0.0,\"#0d0887\"],[0.1111111111111111,\"#46039f\"],[0.2222222222222222,\"#7201a8\"],[0.3333333333333333,\"#9c179e\"],[0.4444444444444444,\"#bd3786\"],[0.5555555555555556,\"#d8576b\"],[0.6666666666666666,\"#ed7953\"],[0.7777777777777778,\"#fb9f3a\"],[0.8888888888888888,\"#fdca26\"],[1.0,\"#f0f921\"]],\"sequentialminus\":[[0.0,\"#0d0887\"],[0.1111111111111111,\"#46039f\"],[0.2222222222222222,\"#7201a8\"],[0.3333333333333333,\"#9c179e\"],[0.4444444444444444,\"#bd3786\"],[0.5555555555555556,\"#d8576b\"],[0.6666666666666666,\"#ed7953\"],[0.7777777777777778,\"#fb9f3a\"],[0.8888888888888888,\"#fdca26\"],[1.0,\"#f0f921\"]],\"diverging\":[[0,\"#8e0152\"],[0.1,\"#c51b7d\"],[0.2,\"#de77ae\"],[0.3,\"#f1b6da\"],[0.4,\"#fde0ef\"],[0.5,\"#f7f7f7\"],[0.6,\"#e6f5d0\"],[0.7,\"#b8e186\"],[0.8,\"#7fbc41\"],[0.9,\"#4d9221\"],[1,\"#276419\"]]},\"xaxis\":{\"gridcolor\":\"white\",\"linecolor\":\"white\",\"ticks\":\"\",\"title\":{\"standoff\":15},\"zerolinecolor\":\"white\",\"automargin\":true,\"zerolinewidth\":2},\"yaxis\":{\"gridcolor\":\"white\",\"linecolor\":\"white\",\"ticks\":\"\",\"title\":{\"standoff\":15},\"zerolinecolor\":\"white\",\"automargin\":true,\"zerolinewidth\":2},\"scene\":{\"xaxis\":{\"backgroundcolor\":\"#E5ECF6\",\"gridcolor\":\"white\",\"linecolor\":\"white\",\"showbackground\":true,\"ticks\":\"\",\"zerolinecolor\":\"white\",\"gridwidth\":2},\"yaxis\":{\"backgroundcolor\":\"#E5ECF6\",\"gridcolor\":\"white\",\"linecolor\":\"white\",\"showbackground\":true,\"ticks\":\"\",\"zerolinecolor\":\"white\",\"gridwidth\":2},\"zaxis\":{\"backgroundcolor\":\"#E5ECF6\",\"gridcolor\":\"white\",\"linecolor\":\"white\",\"showbackground\":true,\"ticks\":\"\",\"zerolinecolor\":\"white\",\"gridwidth\":2}},\"shapedefaults\":{\"line\":{\"color\":\"#2a3f5f\"}},\"annotationdefaults\":{\"arrowcolor\":\"#2a3f5f\",\"arrowhead\":0,\"arrowwidth\":1},\"geo\":{\"bgcolor\":\"white\",\"landcolor\":\"#E5ECF6\",\"subunitcolor\":\"white\",\"showland\":true,\"showlakes\":true,\"lakecolor\":\"white\"},\"title\":{\"x\":0.05},\"mapbox\":{\"style\":\"light\"}}},\"xaxis\":{\"anchor\":\"y\",\"domain\":[0.0,1.0],\"title\":{\"text\":\"x\"}},\"yaxis\":{\"anchor\":\"x\",\"domain\":[0.0,1.0],\"title\":{\"text\":\"y\"}},\"legend\":{\"tracegroupgap\":0},\"title\":{\"text\":\"Loss\"}},                        {\"responsive\": true}                    ).then(function(){\n",
              "                            \n",
              "var gd = document.getElementById('a24e6a7b-ff55-4396-9dc5-756f7bad69e7');\n",
              "var x = new MutationObserver(function (mutations, observer) {{\n",
              "        var display = window.getComputedStyle(gd).display;\n",
              "        if (!display || display === 'none') {{\n",
              "            console.log([gd, 'removed!']);\n",
              "            Plotly.purge(gd);\n",
              "            observer.disconnect();\n",
              "        }}\n",
              "}});\n",
              "\n",
              "// Listen for the removal of the full notebook cells\n",
              "var notebookContainer = gd.closest('#notebook-container');\n",
              "if (notebookContainer) {{\n",
              "    x.observe(notebookContainer, {childList: true});\n",
              "}}\n",
              "\n",
              "// Listen for the clearing of the current output cell\n",
              "var outputEl = gd.closest('.output');\n",
              "if (outputEl) {{\n",
              "    x.observe(outputEl, {childList: true});\n",
              "}}\n",
              "\n",
              "                        })                };                            </script>        </div>\n",
              "</body>\n",
              "</html>"
            ]
          },
          "metadata": {}
        }
      ]
    },
    {
      "cell_type": "markdown",
      "metadata": {
        "id": "hxtnqzNxI3YW"
      },
      "source": [
        "## Predictions for your images (optional)"
      ]
    },
    {
      "cell_type": "code",
      "metadata": {
        "id": "VghDa4U7u-xS",
        "colab": {
          "base_uri": "https://localhost:8080/"
        },
        "outputId": "fe2f7318-bdf4-41f0-f67a-830d1c84c770"
      },
      "source": [
        "from google.colab import drive\n",
        "drive.mount('/content/drive/')"
      ],
      "execution_count": 34,
      "outputs": [
        {
          "output_type": "stream",
          "name": "stdout",
          "text": [
            "Drive already mounted at /content/drive/; to attempt to forcibly remount, call drive.mount(\"/content/drive/\", force_remount=True).\n"
          ]
        }
      ]
    },
    {
      "cell_type": "code",
      "metadata": {
        "id": "lIa-iyE0vCOm",
        "colab": {
          "base_uri": "https://localhost:8080/"
        },
        "outputId": "56a1915e-9217-431f-b33a-70925e05f875"
      },
      "source": [
        "%cd /content/drive/My Drive/Colab Notebooks/ML_and_NN_course/module 3"
      ],
      "execution_count": 35,
      "outputs": [
        {
          "output_type": "stream",
          "name": "stdout",
          "text": [
            "/content/drive/My Drive/Colab Notebooks/ML_and_NN_course/module 3\n"
          ]
        }
      ]
    },
    {
      "cell_type": "code",
      "metadata": {
        "id": "Oy9q-a43I3Yx"
      },
      "source": [
        "from utils import *"
      ],
      "execution_count": 36,
      "outputs": []
    },
    {
      "cell_type": "code",
      "source": [
        "import numpy as np\n",
        "import cv2\n",
        "import matplotlib.pyplot as plt\n",
        "import keras.utils as image"
      ],
      "metadata": {
        "id": "VVbZFh93oTLT"
      },
      "execution_count": 37,
      "outputs": []
    },
    {
      "cell_type": "code",
      "source": [
        "def predict(img_path,model,con_dest='converted_img.jpg',threshold=135):\n",
        "    num=cv2.imread(img_path)\n",
        "    num=cv2.cvtColor(num, cv2.COLOR_BGR2GRAY)\n",
        "    #num.resize(28,28)\n",
        "    (thresh, num) = cv2.threshold(num, threshold, 255, cv2.THRESH_BINARY_INV)\n",
        "\n",
        "\n",
        "    cv2.imwrite(con_dest,num)\n",
        "\n",
        "    img = image.load_img(con_dest,color_mode = \"grayscale\",target_size=(28,28))\n",
        "    plt.imshow(img)\n",
        "    plt.title(\"Converted Image for Prediction\")\n",
        "    plt.show()\n",
        "    img = image.img_to_array(img)\n",
        "    test_img = (img.reshape((1,784)))/255.0\n",
        "    ans=model.predict(test_img)\n",
        "\n",
        "    print('Predictions for each class', ans)\n",
        "    print('Predicted value is '+ str(np.argmax(ans)))"
      ],
      "metadata": {
        "id": "MecH5mmhoIYI"
      },
      "execution_count": 38,
      "outputs": []
    },
    {
      "cell_type": "code",
      "metadata": {
        "id": "30VSJmbCI3Y7",
        "colab": {
          "base_uri": "https://localhost:8080/",
          "height": 524
        },
        "outputId": "b1463a71-7823-455f-9066-d3d1d3b88ac6"
      },
      "source": [
        "predict('images/num_5.jpg',model=model,con_dest='images/con_num_23.jpg')"
      ],
      "execution_count": 45,
      "outputs": [
        {
          "output_type": "display_data",
          "data": {
            "text/plain": [
              "<Figure size 640x480 with 1 Axes>"
            ],
            "image/png": "[encoded data removed]"
          },
          "metadata": {}
        },
        {
          "output_type": "stream",
          "name": "stdout",
          "text": [
            "1/1 [==============================] - 0s 20ms/step\n",
            "Predictions for each class [[0.01875523 0.09208331 0.03418684 0.17240858 0.02915405 0.12461624\n",
            "  0.01018171 0.05278698 0.28880158 0.17702553]]\n",
            "Predicted value is 8\n"
          ]
        }
      ]
    },
    {
      "cell_type": "code",
      "metadata": {
        "id": "634gmJLtI3ZG"
      },
      "source": [],
      "execution_count": null,
      "outputs": []
    }
  ]
}